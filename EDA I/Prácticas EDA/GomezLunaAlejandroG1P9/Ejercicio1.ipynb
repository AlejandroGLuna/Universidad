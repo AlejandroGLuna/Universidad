{
 "cells": [
  {
   "cell_type": "code",
   "execution_count": 7,
   "metadata": {},
   "outputs": [
    {
     "name": "stdout",
     "output_type": "stream",
     "text": [
      "Distancia en kilometros es:  8.0467\n"
     ]
    }
   ],
   "source": [
    "def transformarMillas(millas):\n",
    "    x=millas*1.60934\n",
    "    print(\"Distancia en kilometros es: \",x)\n",
    "\n",
    "transformarMillas(5)"
   ]
  },
  {
   "cell_type": "code",
   "execution_count": 8,
   "metadata": {},
   "outputs": [
    {
     "name": "stdout",
     "output_type": "stream",
     "text": [
      "Distancia en millas es:  5.0\n"
     ]
    }
   ],
   "source": [
    "def transformarKilometros(kilometros):\n",
    "    x=kilometros/1.60934\n",
    "    print(\"Distancia en millas es: \",x)\n",
    "\n",
    "transformarKilometros(8.0467)"
   ]
  }
 ],
 "metadata": {
  "kernelspec": {
   "display_name": "Python 3",
   "language": "python",
   "name": "python3"
  },
  "language_info": {
   "codemirror_mode": {
    "name": "ipython",
    "version": 3
   },
   "file_extension": ".py",
   "mimetype": "text/x-python",
   "name": "python",
   "nbconvert_exporter": "python",
   "pygments_lexer": "ipython3",
   "version": "3.7.0"
  }
 },
 "nbformat": 4,
 "nbformat_minor": 2
}
