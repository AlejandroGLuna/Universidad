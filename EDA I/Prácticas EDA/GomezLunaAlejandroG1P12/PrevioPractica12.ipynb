{
 "cells": [
  {
   "cell_type": "code",
   "execution_count": 1,
   "metadata": {},
   "outputs": [
    {
     "data": {
      "text/plain": [
       "120"
      ]
     },
     "execution_count": 1,
     "metadata": {},
     "output_type": "execute_result"
    }
   ],
   "source": [
    "def factorial_no_recursivo(numero):\n",
    "    fact=1\n",
    "    for i in range(numero,1,-1):\n",
    "        fact*=i\n",
    "    return fact\n",
    "factorial_no_recursivo(5)"
   ]
  },
  {
   "cell_type": "code",
   "execution_count": 2,
   "metadata": {},
   "outputs": [
    {
     "data": {
      "text/plain": [
       "120"
      ]
     },
     "execution_count": 2,
     "metadata": {},
     "output_type": "execute_result"
    }
   ],
   "source": [
    "def factorial_recursivo(numero):\n",
    "    if numero<2:\n",
    "        return 1\n",
    "    return numero*factorial_recursivo(numero-1)\n",
    "factorial_recursivo(5)"
   ]
  },
  {
   "cell_type": "code",
   "execution_count": 1,
   "metadata": {},
   "outputs": [],
   "source": [
    "import turtle\n",
    "wn = turtle.Screen()\n",
    "wn.bgcolor(\"lightgreen\")\n",
    "tess = turtle.Turtle()\n",
    "tess.shape(\"turtle\")\n",
    "tess.color(\"blue\")\n",
    "\n",
    "tess.penup()                # This is new\n",
    "size = 20\n",
    "for i in range(30):\n",
    "    tess.stamp()             # Leave an impression on the canvas\n",
    "    size = size + 3          # Increase the size on every iteration\n",
    "    tess.forward(size)       # Move tess along\n",
    "    tess.right(24)           #  ...  and turn her\n",
    "\n",
    "wn.mainloop()"
   ]
  },
  {
   "cell_type": "code",
   "execution_count": 2,
   "metadata": {
    "scrolled": true
   },
   "outputs": [],
   "source": [
    "def recorrido_recursivo(tortuga, espacio, huellas):\n",
    "    if huellas > 0:\n",
    "        tortuga.stamp()\n",
    "        espacio = espacio + 3\n",
    "        tortuga.forward(espacio)\n",
    "        tortuga.right(24)\n",
    "        recorrido_recursivo(tortuga, espacio, huellas-1)\n",
    "\n",
    "import turtle\n",
    "wn = turtle.Screen()\n",
    "wn.bgcolor(\"lightgreen\")\n",
    "tess = turtle.Turtle()\n",
    "tess.shape(\"turtle\")\n",
    "tess.color(\"blue\")\n",
    "\n",
    "tess.penup()                # This is new\n",
    "size = 20\n",
    "recorrido_recursivo(tess,size,30)\n",
    "\n",
    "wn.mainloop()"
   ]
  },
  {
   "cell_type": "code",
   "execution_count": 3,
   "metadata": {},
   "outputs": [
    {
     "data": {
      "text/plain": [
       "144"
      ]
     },
     "execution_count": 3,
     "metadata": {},
     "output_type": "execute_result"
    }
   ],
   "source": [
    "def fibonacci_recursivo(numero):\n",
    "    if numero==1:\n",
    "        return 0\n",
    "    if numero==2 or numero==3:\n",
    "        return 1\n",
    "    return fibonacci_recursivo(numero-1)+fibonacci_recursivo(numero-2)\n",
    "\n",
    "fibonacci_recursivo(13)"
   ]
  },
  {
   "cell_type": "code",
   "execution_count": 5,
   "metadata": {},
   "outputs": [
    {
     "data": {
      "text/plain": [
       "144"
      ]
     },
     "execution_count": 5,
     "metadata": {},
     "output_type": "execute_result"
    }
   ],
   "source": [
    "memoria={1:0,2:1,3:1}\n",
    "def fibonacci_memo(numero):\n",
    "    if numero in memoria:\n",
    "        return memoria[numero]\n",
    "    memoria[numero]=fibonacci_memo(numero-1)+fibonacci_memo(numero-2)\n",
    "    return memoria[numero]\n",
    "\n",
    "fibonacci_memo(13)"
   ]
  },
  {
   "cell_type": "code",
   "execution_count": null,
   "metadata": {},
   "outputs": [],
   "source": []
  }
 ],
 "metadata": {
  "kernelspec": {
   "display_name": "Python 3",
   "language": "python",
   "name": "python3"
  },
  "language_info": {
   "codemirror_mode": {
    "name": "ipython",
    "version": 3
   },
   "file_extension": ".py",
   "mimetype": "text/x-python",
   "name": "python",
   "nbconvert_exporter": "python",
   "pygments_lexer": "ipython3",
   "version": "3.7.3"
  }
 },
 "nbformat": 4,
 "nbformat_minor": 2
}
